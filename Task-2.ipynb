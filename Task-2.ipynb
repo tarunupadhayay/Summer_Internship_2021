{
 "cells": [
  {
   "cell_type": "markdown",
   "id": "0ee8b4ba",
   "metadata": {},
   "source": [
    "# Assignment-2"
   ]
  },
  {
   "cell_type": "markdown",
   "id": "6ffa185b",
   "metadata": {},
   "source": [
    "Ques-1"
   ]
  },
  {
   "cell_type": "code",
   "execution_count": 1,
   "id": "f9e09506",
   "metadata": {},
   "outputs": [
    {
     "name": "stdout",
     "output_type": "stream",
     "text": [
      "Enter Your Email ID: upadhayay.tarun@gmail.com\n",
      "upadhayay.tarun@gmail.com\n",
      "['upadhayay.tarun', 'gmail.com']\n",
      "['upadhayay', 'tarun']\n",
      "*************************************************\n",
      "First Name :  tarun\n",
      "Last Name :  upadhayay\n",
      "Domain : www.gmail.com\n"
     ]
    }
   ],
   "source": [
    "# Ques 1 Email address spliting.\n",
    "# lastname.firstname@ibm.com\n",
    "# First Name : <Name>\n",
    "# Last Name : <Last Name>\n",
    "# www.ibm.com\n",
    "#\n",
    "email = input(\"Enter Your Email ID: \")\n",
    "print(email)\n",
    "\n",
    "n  = email.split(\"@\")\n",
    "print(n)\n",
    "\n",
    "# print(n[0])\n",
    "# print(n[1])\n",
    "\n",
    "name = n[0].split(\".\")\n",
    "print(name)\n",
    "\n",
    "# print(name[0])\n",
    "# print(name[1])\n",
    "\n",
    "print(\"*************************************************\")\n",
    "print(\"First Name : \",name[1])\n",
    "print(\"Last Name : \",name[0])\n",
    "print(\"Domain : www.\" + n[1])"
   ]
  },
  {
   "cell_type": "markdown",
   "id": "526d9f70",
   "metadata": {},
   "source": [
    "Ques-2"
   ]
  },
  {
   "cell_type": "code",
   "execution_count": 2,
   "id": "24e12cf0",
   "metadata": {},
   "outputs": [
    {
     "name": "stdout",
     "output_type": "stream",
     "text": [
      "-------------------------------------------------------------\n",
      "Please Enter Following Student Details : \n",
      "Your Name :  Tarun Upadhayay\n",
      "Your Class :  5th Sem\n",
      "English :  97\n",
      "Maths :  100\n",
      "Science :  100\n",
      "Computer :  100\n",
      "-------------------------------------------------------------\n",
      "Name :  Tarun Upadhayay\n",
      "Class :  5th Sem\n",
      "English Marks :  97\n",
      "Maths Marks :  100\n",
      "Science Marks :  100\n",
      "Computer Marks :  100\n",
      "Total :  397\n",
      "Average :  99.25\n",
      "A Grade\n",
      "-------------------------------------------------------------\n"
     ]
    }
   ],
   "source": [
    "# Q2 Marksheet of Student\n",
    "print(\"-------------------------------------------------------------\")\n",
    "print(\"Please Enter Following Student Details : \")\n",
    "print(\"Your Name : \",end=\" \")\n",
    "name = str(input())\n",
    "print(\"Your Class : \",end=\" \")\n",
    "cla = input()\n",
    "print(\"English : \",end=\" \")\n",
    "e = int(input())\n",
    "print(\"Maths : \",end=\" \")\n",
    "m = int(input())\n",
    "print(\"Science : \",end=\" \")\n",
    "s = int(input())\n",
    "print(\"Computer : \",end=\" \")\n",
    "c = int(input())\n",
    "print(\"-------------------------------------------------------------\")\n",
    "print(\"Name : \",name)\n",
    "print(\"Class : \",cla)\n",
    "print(\"English Marks : \",e)\n",
    "print(\"Maths Marks : \",m)\n",
    "print(\"Science Marks : \",s)\n",
    "print(\"Computer Marks : \",c)\n",
    "t = e+m+s+c\n",
    "print(\"Total : \",t)\n",
    "avg = t/4\n",
    "print(\"Average : \",avg)\n",
    "if(avg>=80):\n",
    "    {\n",
    "        print(\"A Grade\")\n",
    "    }\n",
    "elif(avg>=70 and avg<80) :\n",
    "    {\n",
    "        print(\"B Grade\")\n",
    "    }\n",
    "elif(avg>=50 and avg<70) :\n",
    "    {\n",
    "        print(\"C Grade\")\n",
    "    }\n",
    "else :\n",
    "    {\n",
    "        print(\"FAIL\")\n",
    "    }\n",
    "print(\"-------------------------------------------------------------\")"
   ]
  },
  {
   "cell_type": "markdown",
   "id": "e51dbfec",
   "metadata": {},
   "source": [
    "Ques-3"
   ]
  },
  {
   "cell_type": "code",
   "execution_count": 3,
   "id": "aa68ff45",
   "metadata": {},
   "outputs": [
    {
     "name": "stdout",
     "output_type": "stream",
     "text": [
      "-------------------------------------------------------------\n",
      "Please Enter Following Student Details : \n",
      "Employee Name :  Tarun Upadhayay\n",
      "Employee Designment(PM/TM/DEV/other) :  DEV\n",
      "Employee Experience :  1\n",
      "Employee Salary :  3200000\n",
      "-------------------------------------------------------------\n",
      "Employee Name :  Tarun Upadhayay\n",
      "Employee Designment :  DEV\n",
      "Hike in Salary :  320000\n"
     ]
    }
   ],
   "source": [
    "# Q3 Hike of Employee\n",
    "print(\"-------------------------------------------------------------\")\n",
    "print(\"Please Enter Following Student Details : \")\n",
    "print(\"Employee Name : \",end=\" \")\n",
    "name = str(input())\n",
    "print(\"Employee Designment(PM/TM/DEV/other) : \",end=\" \")\n",
    "d = str(input())\n",
    "print(\"Employee Experience : \",end=\" \")\n",
    "exp = int(input())\n",
    "print(\"Employee Salary : \",end=\" \")\n",
    "sal = int(input())\n",
    "\n",
    "print(\"-------------------------------------------------------------\")\n",
    "print(\"Employee Name : \",name)\n",
    "print(\"Employee Designment : \",d)\n",
    "\n",
    "# When desgination equal to PM\n",
    "if(d == \"PM\" ):\n",
    "    if(exp>=15):\n",
    "        h = int((sal * 20) / 100)\n",
    "        print(\"Hike in Salary : \",h)\n",
    "    elif (exp >= 10):\n",
    "        h = int((sal * 15) / 100)\n",
    "        print(\"Hike in Salary : \", h)\n",
    "    else :\n",
    "        h = int((sal * 12) / 100)\n",
    "        print(\"Hike in Salary : \", h)\n",
    "\n",
    "# When desgination equal to TM\n",
    "elif(d==\"TM\"):\n",
    "    if (exp >= 15):\n",
    "        h = int((sal * 22) / 100)\n",
    "        print(\"Hike in Salary : \", h)\n",
    "    elif (exp >= 12):\n",
    "        h = int((sal * 18) / 100)\n",
    "        print(\"Hike in Salary : \",h)\n",
    "    else:\n",
    "        h = int((sal * 15) / 100)\n",
    "        print(\"Hike in Salary : \", h)\n",
    "\n",
    "# When desgination equal to DEV\n",
    "elif(d==\"DEV\"):\n",
    "    if (exp >= 10):\n",
    "        h = int((sal * 18) / 100)\n",
    "        print(\"Hike in Salary : \",h)\n",
    "    elif (exp >= 8):\n",
    "        h = int((sal * 14) / 100)\n",
    "        print(\"Hike in Salary : \", h)\n",
    "    else:\n",
    "        h = int((sal * 10) / 100)\n",
    "        print(\"Hike in Salary : \", h)\n",
    "\n",
    "# When desgination equal to other\n",
    "else:\n",
    "    h = int((sal * 10) / 100)\n",
    "    print(\"Hike in Salary : \", h)\n"
   ]
  },
  {
   "cell_type": "code",
   "execution_count": null,
   "id": "0f66c7d3",
   "metadata": {},
   "outputs": [],
   "source": []
  }
 ],
 "metadata": {
  "kernelspec": {
   "display_name": "Python 3 (ipykernel)",
   "language": "python",
   "name": "python3"
  },
  "language_info": {
   "codemirror_mode": {
    "name": "ipython",
    "version": 3
   },
   "file_extension": ".py",
   "mimetype": "text/x-python",
   "name": "python",
   "nbconvert_exporter": "python",
   "pygments_lexer": "ipython3",
   "version": "3.8.9"
  }
 },
 "nbformat": 4,
 "nbformat_minor": 5
}
