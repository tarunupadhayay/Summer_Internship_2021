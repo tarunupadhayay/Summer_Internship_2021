{
 "cells": [
  {
   "cell_type": "markdown",
   "id": "a5a8387a",
   "metadata": {},
   "source": [
    "# Task - 1 "
   ]
  },
  {
   "cell_type": "markdown",
   "id": "be9aa27e",
   "metadata": {},
   "source": [
    "## Ques - 1"
   ]
  },
  {
   "cell_type": "code",
   "execution_count": 1,
   "id": "84cd952b",
   "metadata": {},
   "outputs": [
    {
     "name": "stdout",
     "output_type": "stream",
     "text": [
      "5 5 5 5 5 \r\n",
      "5 5 5 5 \r\n",
      "5 5 5 \r\n",
      "5 5 \r\n",
      "5 \r\n"
     ]
    }
   ],
   "source": [
    "for i in range(0,5):\n",
    "    for j in range(i,5):\n",
    "        print(\"5 \",end= \"\")\n",
    "    print(\"\\r\")"
   ]
  },
  {
   "cell_type": "markdown",
   "id": "4dfbd3bd",
   "metadata": {},
   "source": [
    "## Ques - 2"
   ]
  },
  {
   "cell_type": "code",
   "execution_count": 2,
   "id": "3d310a9a",
   "metadata": {},
   "outputs": [
    {
     "name": "stdout",
     "output_type": "stream",
     "text": [
      "0  1  2  3  4  5  \r\n",
      "0  1  2  3  4  \r\n",
      "0  1  2  3  \r\n",
      "0  1  2  \r\n",
      "0  1  \r\n"
     ]
    }
   ],
   "source": [
    "for i in range(6,1,-1):\n",
    "    for j in range(0,i):\n",
    "        print(j,\" \",end= \"\")\n",
    "    print(\"\\r\")"
   ]
  },
  {
   "cell_type": "markdown",
   "id": "02344816",
   "metadata": {},
   "source": [
    "## Ques - 3"
   ]
  },
  {
   "cell_type": "code",
   "execution_count": 3,
   "id": "50282c45",
   "metadata": {},
   "outputs": [
    {
     "name": "stdout",
     "output_type": "stream",
     "text": [
      "1  \r\n",
      "3  3  \r\n",
      "5  5  5  \r\n",
      "7  7  7  7  \r\n",
      "9  9  9  9  9  \r\n"
     ]
    }
   ],
   "source": [
    "for i in range(0,5):\n",
    "    for j in range(-1,i):\n",
    "        print((2*i)+1,\" \",end= \"\")\n",
    "    print(\"\\r\")\n"
   ]
  },
  {
   "cell_type": "markdown",
   "id": "427d4236",
   "metadata": {},
   "source": [
    "## Ques - 4"
   ]
  },
  {
   "cell_type": "code",
   "execution_count": 4,
   "id": "2f9dcd04",
   "metadata": {},
   "outputs": [
    {
     "name": "stdout",
     "output_type": "stream",
     "text": [
      "1   \r\n",
      "2   1   \r\n",
      "3   2   1   \r\n",
      "4   3   2   1   \r\n",
      "5   4   3   2   1   \r\n"
     ]
    }
   ],
   "source": [
    "for i in range(0,5):\n",
    "    for j in range(i+1,0,-1):\n",
    "        print(j,\" \",end= \" \")\n",
    "    print(\"\\r\")\n"
   ]
  },
  {
   "cell_type": "markdown",
   "id": "ce033d5d",
   "metadata": {},
   "source": [
    "## Ques - 5"
   ]
  },
  {
   "cell_type": "code",
   "execution_count": 5,
   "id": "1aed4094",
   "metadata": {},
   "outputs": [
    {
     "name": "stdout",
     "output_type": "stream",
     "text": [
      "1\n",
      "3 2\n",
      "4 5 6\n",
      "10 9 8 7\n"
     ]
    }
   ],
   "source": [
    "j, k = 0, 0\n",
    "\n",
    "\n",
    "for i in range(1,5):\n",
    "\n",
    "\n",
    "    if i % 2 != 0:\n",
    "\n",
    "\n",
    "        for j in range(k + 1, k + i):\n",
    "            print(str(j) + \" \",\n",
    "                  end=\"\")\n",
    "\n",
    "        j = k + i\n",
    "        print(j)\n",
    "        j += 1\n",
    "\n",
    "        k = j\n",
    "\n",
    "\n",
    "    else:\n",
    "\n",
    "\n",
    "        k = k + i - 1\n",
    "\n",
    "\n",
    "        for j in range(k, k - i + 1, -1):\n",
    "            print(str(j) + \" \", end=\"\")\n",
    "\n",
    "        j = k - i + 1\n",
    "        print(j)\n"
   ]
  },
  {
   "cell_type": "markdown",
   "id": "89326f89",
   "metadata": {},
   "source": [
    "## Ques - 6"
   ]
  },
  {
   "cell_type": "code",
   "execution_count": 6,
   "id": "a896aac5",
   "metadata": {},
   "outputs": [
    {
     "name": "stdout",
     "output_type": "stream",
     "text": [
      "1 \n",
      "1 1 \n",
      "1 2 1 \n",
      "1 3 3 1 \n",
      "1 4 6 4 1 \n",
      "1 5 10 10 5 1 \n",
      "1 6 15 20 15 6 1 \n"
     ]
    }
   ],
   "source": [
    "# Pascal Triangle\n",
    "\n",
    "def print_pascal_triangle(size):\n",
    "    for i in range(0, size):\n",
    "        for j in range(0, i + 1):\n",
    "            print(decide_number(i, j), end=\" \")\n",
    "        print()\n",
    "\n",
    "\n",
    "def decide_number(n, k):\n",
    "    num = 1\n",
    "    if k > n - k:\n",
    "        k = n - k\n",
    "    for i in range(0, k):\n",
    "        num = num * (n - i)\n",
    "        num = num // (i + 1)\n",
    "    return num\n",
    "\n",
    "# set rows\n",
    "rows = 7\n",
    "print_pascal_triangle(rows)\n"
   ]
  },
  {
   "cell_type": "markdown",
   "id": "653bb509",
   "metadata": {},
   "source": [
    "## Ques - 7"
   ]
  },
  {
   "cell_type": "code",
   "execution_count": 7,
   "id": "262909d3",
   "metadata": {},
   "outputs": [
    {
     "name": "stdout",
     "output_type": "stream",
     "text": [
      "1 2 3 4 5  \n",
      "2 2 3 4 5  \n",
      "3 3 3 4 5  \n",
      "4 4 4 4 5  \n",
      "5 5 5 5 5  \n"
     ]
    }
   ],
   "source": [
    "for i in range(1,6):\n",
    "    for j in range(1,6):\n",
    "        if(j<=i):\n",
    "            print(i,end=\" \")\n",
    "        else:\n",
    "            print(j,end= \" \")\n",
    "\n",
    "    print(\" \")\n"
   ]
  },
  {
   "cell_type": "markdown",
   "id": "88405f38",
   "metadata": {},
   "source": [
    "## Ques - 8"
   ]
  },
  {
   "cell_type": "code",
   "execution_count": 8,
   "id": "5eaea012",
   "metadata": {},
   "outputs": [
    {
     "name": "stdout",
     "output_type": "stream",
     "text": [
      "1 \r\n",
      "2 4 \r\n",
      "3 6 9 \r\n",
      "4 8 12 16 \r\n",
      "5 10 15 20 25 \r\n",
      "6 12 18 24 30 36 \r\n",
      "7 14 21 28 35 42 49 \r\n",
      "8 16 24 32 40 48 56 64 \r\n"
     ]
    }
   ],
   "source": [
    "for i in range(1,9):\n",
    "    for j in range(1,i+1):\n",
    "        if(i==1):\n",
    "            print(1,end=\" \")\n",
    "        else:\n",
    "            print(j*i,end= \" \")\n",
    "\n",
    "    print(\"\\r\")\n"
   ]
  },
  {
   "cell_type": "markdown",
   "id": "796e3565",
   "metadata": {},
   "source": [
    "## Ques - 9"
   ]
  },
  {
   "cell_type": "code",
   "execution_count": 9,
   "id": "0dfd83d8",
   "metadata": {},
   "outputs": [
    {
     "name": "stdout",
     "output_type": "stream",
     "text": [
      "        * * * * * * \n",
      "         * * * * * \n",
      "          * * * * \n",
      "           * * * \n",
      "            * * \n",
      "             * \n"
     ]
    }
   ],
   "source": [
    "# Downward full pyramid pattern\n",
    "k = 8\n",
    "for i in range(5, -1, -1):\n",
    "    for j in range(k, 0, -1):\n",
    "        print(end=\" \")\n",
    "    k = k + 1\n",
    "    for j in range(0, i + 1):\n",
    "        print(\"*\", end=\" \")\n",
    "    print(\"\")\n"
   ]
  },
  {
   "cell_type": "markdown",
   "id": "7269355a",
   "metadata": {},
   "source": [
    "## Ques - 10"
   ]
  },
  {
   "cell_type": "code",
   "execution_count": 10,
   "id": "dcb0c334",
   "metadata": {},
   "outputs": [
    {
     "name": "stdout",
     "output_type": "stream",
     "text": [
      "            *   \n",
      "           *  *   \n",
      "          *  *  *   \n",
      "         *  *  *  *   \n",
      "        *  *  *  *  *   \n",
      "       *  *  *  *  *  *   \n",
      "      *  *  *  *  *  *  *   \n"
     ]
    }
   ],
   "source": [
    "# full Triangle pyramid\n",
    "m = 12\n",
    "for i in range(0, 7):\n",
    "    for j in range(0, m):\n",
    "        print(end=\" \")\n",
    "\n",
    "    m = m - 1\n",
    "    for j in range(0, i + 1):\n",
    "        print(\"* \", end=' ')\n",
    "    print(\" \")\n",
    "\n"
   ]
  },
  {
   "cell_type": "markdown",
   "id": "15792986",
   "metadata": {},
   "source": [
    "## Ques - 11"
   ]
  },
  {
   "cell_type": "code",
   "execution_count": 11,
   "id": "518f1539",
   "metadata": {},
   "outputs": [
    {
     "name": "stdout",
     "output_type": "stream",
     "text": [
      "*  \n",
      "* *  \n",
      "* * *  \n",
      "* * * *  \n",
      "* * * * *  \n",
      "* * * * * *  \n",
      " \n",
      "* * * * * *  \n",
      "* * * * *  \n",
      "* * * *  \n",
      "* * *  \n",
      "* *  \n",
      "*  \n",
      " \n"
     ]
    }
   ],
   "source": [
    "for i in range(0, 6):\n",
    "    for j in range(0, i + 1):\n",
    "        print(\"*\", end=' ')\n",
    "    print(\" \")\n",
    "\n",
    "print(\" \")\n",
    "\n",
    "for i in range(7, 0, -1):\n",
    "    for j in range(0, i - 1):\n",
    "        print(\"*\", end=' ')\n",
    "    print(\" \")\n"
   ]
  },
  {
   "cell_type": "markdown",
   "id": "03dc6127",
   "metadata": {},
   "source": [
    "## Ques - 12"
   ]
  },
  {
   "cell_type": "code",
   "execution_count": 12,
   "id": "c48272e8",
   "metadata": {},
   "outputs": [
    {
     "name": "stdout",
     "output_type": "stream",
     "text": [
      "* \r\n",
      "* * \r\n",
      "* * * \r\n",
      "* * * * \r\n",
      "* * * * * \r\n",
      "* * * * \r\n",
      "* * * \r\n",
      "* * \r\n",
      "* \r\n",
      "\r\n"
     ]
    }
   ],
   "source": [
    "for i in range(0, 5):\n",
    "    for j in range(0, i + 1):\n",
    "        print(\"*\", end=' ')\n",
    "    print(\"\\r\")\n",
    "\n",
    "for i in range(5, 0, -1):\n",
    "    for j in range(0, i - 1):\n",
    "        print(\"*\", end=' ')\n",
    "    print(\"\\r\")\n",
    "\n"
   ]
  },
  {
   "cell_type": "markdown",
   "id": "d5c6b4e9",
   "metadata": {},
   "source": [
    "## Ques - 13"
   ]
  },
  {
   "cell_type": "code",
   "execution_count": 13,
   "id": "3b8d5d16",
   "metadata": {},
   "outputs": [
    {
     "name": "stdout",
     "output_type": "stream",
     "text": [
      "        * \n",
      "      * * \n",
      "    * * * \n",
      "  * * * * \n",
      "* * * * * \n",
      "  * * * * \n",
      "    * * * \n",
      "      * * \n",
      "        * \n",
      "          \n"
     ]
    }
   ],
   "source": [
    "rows = 5\n",
    "i = 1\n",
    "while i <= rows:\n",
    "    j = i\n",
    "    while j < rows:\n",
    "        # display space\n",
    "        print(' ', end=' ')\n",
    "        j += 1\n",
    "    k = 1\n",
    "    while k <= i:\n",
    "        print('*', end=' ')\n",
    "        k += 1\n",
    "    print()\n",
    "    i += 1\n",
    "\n",
    "i = rows\n",
    "while i >= 1:\n",
    "    j = i\n",
    "    while j <= rows:\n",
    "        print(' ', end=' ')\n",
    "        j += 1\n",
    "    k = 1\n",
    "    while k < i:\n",
    "        print('*', end=' ')\n",
    "        k += 1\n",
    "    print('')\n",
    "    i -= 1\n",
    "\n"
   ]
  },
  {
   "cell_type": "markdown",
   "id": "15f3a610",
   "metadata": {},
   "source": [
    "## Ques - 14"
   ]
  },
  {
   "cell_type": "code",
   "execution_count": 14,
   "id": "dfffd575",
   "metadata": {},
   "outputs": [
    {
     "name": "stdout",
     "output_type": "stream",
     "text": [
      "* * * * * \n",
      " * * * * \n",
      "  * * * \n",
      "   * * \n",
      "    * \n",
      "    * \n",
      "   * * \n",
      "  * * * \n",
      " * * * * \n",
      "* * * * * \n"
     ]
    }
   ],
   "source": [
    "rows = 5\n",
    "i = 0\n",
    "while i <= rows - 1:\n",
    "    j = 0\n",
    "    while j < i:\n",
    "        # display space\n",
    "        print('', end=' ')\n",
    "        j += 1\n",
    "    k = i\n",
    "    while k <= rows - 1:\n",
    "        print('*', end=' ')\n",
    "        k += 1\n",
    "    print()\n",
    "    i += 1\n",
    "\n",
    "i = rows - 1\n",
    "while i >= 0:\n",
    "    j = 0\n",
    "    while j < i:\n",
    "        print('', end=' ')\n",
    "        j += 1\n",
    "    k = i\n",
    "    while k <= rows - 1:\n",
    "        print('*', end=' ')\n",
    "        k += 1\n",
    "    print('')\n",
    "    i -= 1\n",
    "\n"
   ]
  },
  {
   "cell_type": "markdown",
   "id": "0fda21c3",
   "metadata": {},
   "source": [
    "## Ques - 15"
   ]
  },
  {
   "cell_type": "code",
   "execution_count": 15,
   "id": "41f28877",
   "metadata": {},
   "outputs": [
    {
     "name": "stdout",
     "output_type": "stream",
     "text": [
      "**************\n",
      "******__******\n",
      "*****____*****\n",
      "****______****\n",
      "***________***\n",
      "**__________**\n",
      "*____________*\n"
     ]
    }
   ],
   "source": [
    "rows = 14\n",
    "print(\"*\" * rows, end=\"\\n\")\n",
    "i = (rows // 2) - 1\n",
    "j = 2\n",
    "while i != 0:\n",
    "    while j <= (rows - 2):\n",
    "        print(\"*\" * i, end=\"\")\n",
    "        print(\"_\" * j, end=\"\")\n",
    "        print(\"*\" * i, end=\"\\n\")\n",
    "        i = i - 1\n",
    "        j = j + 2\n",
    "\n"
   ]
  },
  {
   "cell_type": "code",
   "execution_count": null,
   "id": "4fe4a062",
   "metadata": {},
   "outputs": [],
   "source": []
  },
  {
   "cell_type": "code",
   "execution_count": null,
   "id": "262a149c",
   "metadata": {},
   "outputs": [],
   "source": []
  }
 ],
 "metadata": {
  "kernelspec": {
   "display_name": "Python 3 (ipykernel)",
   "language": "python",
   "name": "python3"
  },
  "language_info": {
   "codemirror_mode": {
    "name": "ipython",
    "version": 3
   },
   "file_extension": ".py",
   "mimetype": "text/x-python",
   "name": "python",
   "nbconvert_exporter": "python",
   "pygments_lexer": "ipython3",
   "version": "3.8.9"
  }
 },
 "nbformat": 4,
 "nbformat_minor": 5
}
